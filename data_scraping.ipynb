{
 "cells": [
  {
   "cell_type": "code",
   "execution_count": 1,
   "metadata": {},
   "outputs": [],
   "source": [
    "import json\n",
    "\n",
    "import http.client, urllib.parse\n",
    "from tqdm import tqdm\n",
    "\n",
    "conn = http.client.HTTPConnection('api.mediastack.com')\n",
    "\n",
    "ACCESS_KEY = \"df1c1027bc3dd38b6cddb5e53a1ec1da\"\n",
    "JSON_FILE = \"data.jsonl\"\n",
    "TOTAL = 10000\n"
   ]
  },
  {
   "cell_type": "code",
   "execution_count": 2,
   "metadata": {},
   "outputs": [
    {
     "name": "stderr",
     "output_type": "stream",
     "text": [
      "100%|██████████| 10000/10000 [00:21<00:00, 463.46it/s]"
     ]
    },
    {
     "ename": "KeyError",
     "evalue": "'data'",
     "output_type": "error",
     "traceback": [
      "\u001b[0;31m---------------------------------------------------------------------------\u001b[0m",
      "\u001b[0;31mKeyError\u001b[0m                                  Traceback (most recent call last)",
      "Cell \u001b[0;32mIn[2], line 24\u001b[0m\n\u001b[1;32m     21\u001b[0m response \u001b[39m=\u001b[39m response\u001b[39m.\u001b[39mread()\u001b[39m.\u001b[39mdecode(\u001b[39m'\u001b[39m\u001b[39mutf-8\u001b[39m\u001b[39m'\u001b[39m)\n\u001b[1;32m     22\u001b[0m response \u001b[39m=\u001b[39m json\u001b[39m.\u001b[39mloads(response)\n\u001b[0;32m---> 24\u001b[0m data\u001b[39m.\u001b[39mextend(response[\u001b[39m'\u001b[39;49m\u001b[39mdata\u001b[39;49m\u001b[39m'\u001b[39;49m])\n\u001b[1;32m     25\u001b[0m count \u001b[39m=\u001b[39m response[\u001b[39m'\u001b[39m\u001b[39mpagination\u001b[39m\u001b[39m'\u001b[39m][\u001b[39m'\u001b[39m\u001b[39mcount\u001b[39m\u001b[39m'\u001b[39m]\n\u001b[1;32m     26\u001b[0m offset \u001b[39m+\u001b[39m\u001b[39m=\u001b[39m count\n",
      "\u001b[0;31mKeyError\u001b[0m: 'data'"
     ]
    },
    {
     "name": "stderr",
     "output_type": "stream",
     "text": [
      "100%|██████████| 10000/10000 [00:40<00:00, 463.46it/s]"
     ]
    }
   ],
   "source": [
    "pbar = tqdm(total=TOTAL)\n",
    "\n",
    "data = []\n",
    "offset = 0\n",
    "\n",
    "while offset < TOTAL - 100:\n",
    "    # Fire next request\n",
    "    params = urllib.parse.urlencode({\n",
    "        'access_key': ACCESS_KEY,\n",
    "        'sort': 'published_asc',\n",
    "        'language': 'en',\n",
    "        'countries': 'us',\n",
    "        'limit': 100,\n",
    "        'offset': offset,\n",
    "    })\n",
    "    \n",
    "    conn.request('GET', '/v1/news?{}'.format(params))\n",
    "\n",
    "    # Process response\n",
    "    response = conn.getresponse()\n",
    "    response = response.read().decode('utf-8')\n",
    "    response = json.loads(response)\n",
    "\n",
    "    data.extend(response['data'])\n",
    "    count = response['pagination']['count']\n",
    "    offset += count\n",
    "    pbar.update(count)\n",
    "\n",
    "    if not count:\n",
    "        break\n",
    "\n",
    "pbar.close()"
   ]
  },
  {
   "cell_type": "code",
   "execution_count": 4,
   "metadata": {},
   "outputs": [
    {
     "name": "stdout",
     "output_type": "stream",
     "text": [
      "Saved 10000 documents to data.jsonl\n"
     ]
    }
   ],
   "source": [
    "with open(JSON_FILE, \"w\") as outfile:\n",
    "    json.dump(data, outfile, indent=True)\n",
    "\n",
    "print(f\"Saved {len(data)} documents to {JSON_FILE}\")"
   ]
  }
 ],
 "metadata": {
  "kernelspec": {
   "display_name": "Python 3",
   "language": "python",
   "name": "python3"
  },
  "language_info": {
   "codemirror_mode": {
    "name": "ipython",
    "version": 3
   },
   "file_extension": ".py",
   "mimetype": "text/x-python",
   "name": "python",
   "nbconvert_exporter": "python",
   "pygments_lexer": "ipython3",
   "version": "3.8.16"
  },
  "orig_nbformat": 4
 },
 "nbformat": 4,
 "nbformat_minor": 2
}
