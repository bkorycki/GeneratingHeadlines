{
 "cells": [
  {
   "cell_type": "code",
   "execution_count": 5,
   "metadata": {},
   "outputs": [],
   "source": [
    "import http.client\n",
    "import urllib.parse\n",
    "from tqdm import tqdm\n",
    "import json\n",
    "\n",
    "# Modify path so that we can import local modules into notebook\n",
    "import os, sys\n",
    "module_path = os.path.abspath(os.path.join('./data')) \n",
    "sys.path.insert(0, module_path)\n",
    "\n",
    "from data.credentials import ACCESS_KEY\n",
    "\n",
    "conn = http.client.HTTPConnection('api.mediastack.com')\n",
    "JSON_FILE = \"data.jsonl\"\n",
    "TOTAL = 10000\n"
   ]
  },
  {
   "cell_type": "code",
   "execution_count": null,
   "metadata": {},
   "outputs": [],
   "source": [
    "pbar = tqdm(total=TOTAL)\n",
    "\n",
    "data = []\n",
    "offset = 0\n",
    "\n",
    "while offset < TOTAL - 100:\n",
    "    # Fire next request\n",
    "    params = urllib.parse.urlencode({\n",
    "        'access_key': ACCESS_KEY,\n",
    "        'sort': 'published_asc',\n",
    "        'language': 'en',\n",
    "        'countries': 'us',\n",
    "        'limit': 100,\n",
    "        'offset': offset,\n",
    "    })\n",
    "    \n",
    "    conn.request('GET', '/v1/news?{}'.format(params))\n",
    "\n",
    "    # Process response\n",
    "    response = conn.getresponse()\n",
    "    response = response.read().decode('utf-8')\n",
    "    response = json.loads(response)\n",
    "\n",
    "    data.extend(response['data'])\n",
    "    count = response['pagination']['count']\n",
    "    offset += count\n",
    "    pbar.update(count)\n",
    "\n",
    "    if not count:\n",
    "        break\n",
    "\n",
    "pbar.close()"
   ]
  },
  {
   "cell_type": "code",
   "execution_count": 4,
   "metadata": {},
   "outputs": [
    {
     "name": "stdout",
     "output_type": "stream",
     "text": [
      "Saved 10000 documents to data.jsonl\n"
     ]
    }
   ],
   "source": [
    "with open(JSON_FILE, \"w\") as outfile:\n",
    "    json.dump(data, outfile, indent=True)\n",
    "\n",
    "print(f\"Saved {len(data)} documents to {JSON_FILE}\")"
   ]
  }
 ],
 "metadata": {
  "kernelspec": {
   "display_name": "Python 3",
   "language": "python",
   "name": "python3"
  },
  "language_info": {
   "codemirror_mode": {
    "name": "ipython",
    "version": 3
   },
   "file_extension": ".py",
   "mimetype": "text/x-python",
   "name": "python",
   "nbconvert_exporter": "python",
   "pygments_lexer": "ipython3",
   "version": "3.8.16"
  },
  "orig_nbformat": 4
 },
 "nbformat": 4,
 "nbformat_minor": 2
}
