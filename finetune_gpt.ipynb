{
 "cells": [
  {
   "cell_type": "code",
   "execution_count": 1,
   "metadata": {},
   "outputs": [],
   "source": [
    "%load_ext autoreload\n",
    "%autoreload 2\n",
    "\n",
    "import os\n",
    "import sys\n",
    "\n",
    "import torch\n",
    "from torch.nn import CrossEntropyLoss\n",
    "from torch.utils.data import DataLoader\n",
    "from transformers import AdamW, get_linear_schedule_with_warmup\n",
    "from sklearn.model_selection import train_test_split\n",
    "from tqdm import tqdm\n",
    "import yaml\n",
    "\n",
    "# Modify path so that we can import local modules into notebook\n",
    "module_path = os.path.abspath(os.path.join('./utils')) \n",
    "sys.path.insert(0, module_path)\n",
    "\n",
    "from utils import exp_util, data_util\n",
    "from exp_util import init_model, get_tokenizer, setup_exp_folders\n",
    "from data_util import ContextualNewsDataset, get_data"
   ]
  },
  {
   "cell_type": "code",
   "execution_count": 2,
   "metadata": {},
   "outputs": [
    {
     "name": "stdout",
     "output_type": "stream",
     "text": [
      "Device: cuda:0\n"
     ]
    }
   ],
   "source": [
    "if torch.cuda.is_available(): \n",
    " dev = \"cuda:0\" \n",
    "else: \n",
    " dev = \"cpu\" \n",
    "device = torch.device(dev) \n",
    "print(f\"Device: {device}\")"
   ]
  },
  {
   "attachments": {},
   "cell_type": "markdown",
   "metadata": {},
   "source": [
    "## Config"
   ]
  },
  {
   "cell_type": "code",
   "execution_count": 3,
   "metadata": {},
   "outputs": [
    {
     "name": "stdout",
     "output_type": "stream",
     "text": [
      "{'GPT_SIZE': 'small', 'TARGET_TYPE': 'desc', 'TRAIN_SPLIT': 0.75, 'VAL_SPLIT': 0.15, 'TEST_SPLIT': 0.1, 'EPOCHS': 1, 'BATCH_SIZE': 8, 'LR': 5e-05, 'WARMUP_STEP': 100, 'GRADIENT_ACCUMULATION_STEPS': 32, 'MAX_GRAD_NORM': 1, 'RANDOM_SEED': 42}\n"
     ]
    }
   ],
   "source": [
    "EXPERIMENT_NAME = \"small_test\"\n",
    "\n",
    "with open(f\"./config/{EXPERIMENT_NAME}.yaml\", 'r') as file:\n",
    "\tconfig = yaml.safe_load(file)\n",
    "print(config)"
   ]
  },
  {
   "cell_type": "code",
   "execution_count": 4,
   "metadata": {},
   "outputs": [],
   "source": [
    "RANDOM_SEED = config[\"RANDOM_SEED\"]\n",
    "torch.manual_seed(RANDOM_SEED)\n",
    "torch.cuda.manual_seed(RANDOM_SEED)\n",
    "torch.random.manual_seed(RANDOM_SEED)\n",
    "import random\n",
    "random.seed(RANDOM_SEED)"
   ]
  },
  {
   "attachments": {},
   "cell_type": "markdown",
   "metadata": {},
   "source": [
    "## Load Dataset"
   ]
  },
  {
   "cell_type": "code",
   "execution_count": 5,
   "metadata": {},
   "outputs": [
    {
     "name": "stdout",
     "output_type": "stream",
     "text": [
      "10000 articles loaded.\n",
      "6461 samples after cleaning\n"
     ]
    },
    {
     "data": {
      "text/html": [
       "<div>\n",
       "<style scoped>\n",
       "    .dataframe tbody tr th:only-of-type {\n",
       "        vertical-align: middle;\n",
       "    }\n",
       "\n",
       "    .dataframe tbody tr th {\n",
       "        vertical-align: top;\n",
       "    }\n",
       "\n",
       "    .dataframe thead th {\n",
       "        text-align: right;\n",
       "    }\n",
       "</style>\n",
       "<table border=\"1\" class=\"dataframe\">\n",
       "  <thead>\n",
       "    <tr style=\"text-align: right;\">\n",
       "      <th></th>\n",
       "      <th>title</th>\n",
       "      <th>description</th>\n",
       "      <th>title_tokens</th>\n",
       "      <th>description_tokens</th>\n",
       "    </tr>\n",
       "  </thead>\n",
       "  <tbody>\n",
       "    <tr>\n",
       "      <th>0</th>\n",
       "      <td>How Santa Cruz Cities are Approaching Outdated...</td>\n",
       "      <td>The process of changing the gendered pronouns ...</td>\n",
       "      <td>[How, ĠSanta, ĠCruz, ĠCities, Ġare, ĠAppro, ac...</td>\n",
       "      <td>[The, Ġprocess, Ġof, Ġchanging, Ġthe, Ġg, ende...</td>\n",
       "    </tr>\n",
       "    <tr>\n",
       "      <th>1</th>\n",
       "      <td>St. David: Saint of the Day for Wednesday, Mar...</td>\n",
       "      <td>According to tradition, St. David was the son ...</td>\n",
       "      <td>[St, ., ĠDavid, :, ĠSaint, Ġof, Ġthe, ĠDay, Ġf...</td>\n",
       "      <td>[According, Ġto, Ġtradition, ,, ĠSt, ., ĠDavid...</td>\n",
       "    </tr>\n",
       "    <tr>\n",
       "      <th>2</th>\n",
       "      <td>WATCH: Kids react to drag with open arms and o...</td>\n",
       "      <td>The video is a heartwarming reminder that the ...</td>\n",
       "      <td>[WATCH, :, ĠKids, Ġreact, Ġto, Ġdrag, Ġwith, Ġ...</td>\n",
       "      <td>[The, Ġvideo, Ġis, Ġa, Ġheart, warming, Ġremin...</td>\n",
       "    </tr>\n",
       "    <tr>\n",
       "      <th>3</th>\n",
       "      <td>Pink + pink = gold? Hybrid hummingbird's feath...</td>\n",
       "      <td>The pink-throated brilliant hummingbird, Helio...</td>\n",
       "      <td>[Pink, Ġ+, Ġpink, Ġ=, Ġgold, ?, ĠHybrid, Ġhumm...</td>\n",
       "      <td>[The, Ġpink, -, thro, ated, Ġbrilliant, Ġhummi...</td>\n",
       "    </tr>\n",
       "    <tr>\n",
       "      <th>4</th>\n",
       "      <td>'Poverty is a policy choice': Millions of Amer...</td>\n",
       "      <td>As of Wednesday, around 30 million people acro...</td>\n",
       "      <td>[', P, overty, Ġis, Ġa, Ġpolicy, Ġchoice, ':, ...</td>\n",
       "      <td>[As, Ġof, ĠWednesday, ,, Ġaround, Ġ30, Ġmillio...</td>\n",
       "    </tr>\n",
       "  </tbody>\n",
       "</table>\n",
       "</div>"
      ],
      "text/plain": [
       "                                               title  \\\n",
       "0  How Santa Cruz Cities are Approaching Outdated...   \n",
       "1  St. David: Saint of the Day for Wednesday, Mar...   \n",
       "2  WATCH: Kids react to drag with open arms and o...   \n",
       "3  Pink + pink = gold? Hybrid hummingbird's feath...   \n",
       "4  'Poverty is a policy choice': Millions of Amer...   \n",
       "\n",
       "                                         description  \\\n",
       "0  The process of changing the gendered pronouns ...   \n",
       "1  According to tradition, St. David was the son ...   \n",
       "2  The video is a heartwarming reminder that the ...   \n",
       "3  The pink-throated brilliant hummingbird, Helio...   \n",
       "4  As of Wednesday, around 30 million people acro...   \n",
       "\n",
       "                                        title_tokens  \\\n",
       "0  [How, ĠSanta, ĠCruz, ĠCities, Ġare, ĠAppro, ac...   \n",
       "1  [St, ., ĠDavid, :, ĠSaint, Ġof, Ġthe, ĠDay, Ġf...   \n",
       "2  [WATCH, :, ĠKids, Ġreact, Ġto, Ġdrag, Ġwith, Ġ...   \n",
       "3  [Pink, Ġ+, Ġpink, Ġ=, Ġgold, ?, ĠHybrid, Ġhumm...   \n",
       "4  [', P, overty, Ġis, Ġa, Ġpolicy, Ġchoice, ':, ...   \n",
       "\n",
       "                                  description_tokens  \n",
       "0  [The, Ġprocess, Ġof, Ġchanging, Ġthe, Ġg, ende...  \n",
       "1  [According, Ġto, Ġtradition, ,, ĠSt, ., ĠDavid...  \n",
       "2  [The, Ġvideo, Ġis, Ġa, Ġheart, warming, Ġremin...  \n",
       "3  [The, Ġpink, -, thro, ated, Ġbrilliant, Ġhummi...  \n",
       "4  [As, Ġof, ĠWednesday, ,, Ġaround, Ġ30, Ġmillio...  "
      ]
     },
     "execution_count": 5,
     "metadata": {},
     "output_type": "execute_result"
    }
   ],
   "source": [
    "tokenizer = get_tokenizer(config[\"GPT_SIZE\"])\n",
    "\n",
    "df = get_data(tokenizer)\n",
    "df.head()"
   ]
  },
  {
   "cell_type": "code",
   "execution_count": 6,
   "metadata": {},
   "outputs": [
    {
     "name": "stdout",
     "output_type": "stream",
     "text": [
      "375 75 50\n"
     ]
    }
   ],
   "source": [
    "# Split data\n",
    "df_train, df_test = train_test_split(df, train_size=int(config[\"TRAIN_SPLIT\"]*len(df)), random_state=RANDOM_SEED)\n",
    "df_test, df_val = train_test_split(df_test, train_size=int(config[\"TEST_SPLIT\"]*len(df)), random_state=RANDOM_SEED)\n",
    "\n",
    "# Create Datasets\n",
    "train_dataset = ContextualNewsDataset(df_train, tokenizer, config[\"TARGET_TYPE\"])\n",
    "val_dataset = ContextualNewsDataset(df_val, tokenizer, config[\"TARGET_TYPE\"])\n",
    "test_dataset = ContextualNewsDataset(df_test, tokenizer, config[\"TARGET_TYPE\"])\n",
    "print(len(train_dataset), len(val_dataset), len(test_dataset))"
   ]
  },
  {
   "cell_type": "code",
   "execution_count": 7,
   "metadata": {},
   "outputs": [
    {
     "name": "stdout",
     "output_type": "stream",
     "text": [
      "Example context:  Robert Platt honored as first in school history to bring home state title in boys wrestling\n",
      "Example target:  Brawley wrestling has been around since 1968 - and in 55 years of existence, the school has never had a boy state champ, until now.The post Robert Platt honored as first in school history to bring home state title in boys wrestling appeared first on KYMA.<|endoftext|> <|pad|> <|pad|> <|pad|> <|pad|> <|pad|> <|pad|> <|pad|> <|pad|> <|pad|> <|pad|> <|pad|> <|pad|> <|pad|> <|pad|> <|pad|> <|pad|> <|pad|> <|pad|> <|pad|> <|pad|> <|pad|> <|pad|> <|pad|> <|pad|> <|pad|> <|pad|> <|pad|> <|pad|> <|pad|> <|pad|> <|pad|> <|pad|> <|pad|> <|pad|> <|pad|> <|pad|> <|pad|> <|pad|> <|pad|> <|pad|> <|pad|> <|pad|> <|pad|> <|pad|> <|pad|> <|pad|> <|pad|> <|pad|> <|pad|> <|pad|> <|pad|> <|pad|> <|pad|> <|pad|> <|pad|> <|pad|> <|pad|> <|pad|> <|pad|> <|pad|> <|pad|> <|pad|> <|pad|> <|pad|> <|pad|> <|pad|> <|pad|> <|pad|> <|pad|> <|pad|> <|pad|> <|pad|> <|pad|> <|pad|> <|pad|> <|pad|> <|pad|> <|pad|> <|pad|> <|pad|> <|pad|> <|pad|> <|pad|> <|pad|> <|pad|> <|pad|> <|pad|> <|pad|> <|pad|> <|pad|> <|pad|> <|pad|> <|pad|> <|pad|> <|pad|> <|pad|> <|pad|> <|pad|> <|pad|> <|pad|> <|pad|> <|pad|> <|pad|> <|pad|> <|pad|> <|pad|>\n"
     ]
    }
   ],
   "source": [
    "sample_tokens = train_dataset[0]['token_ids']\n",
    "sep_idx =  train_dataset[0]['sep_pos']\n",
    "print(\"Example context: \", tokenizer.decode(sample_tokens[:sep_idx]))\n",
    "print(\"Example target: \", tokenizer.decode(sample_tokens[sep_idx+1:]))"
   ]
  },
  {
   "attachments": {},
   "cell_type": "markdown",
   "metadata": {},
   "source": [
    "## Train"
   ]
  },
  {
   "cell_type": "code",
   "execution_count": 8,
   "metadata": {},
   "outputs": [],
   "source": [
    "from torch.utils.tensorboard import SummaryWriter\n",
    "\n",
    "def train(model, train_dataset, valid_dataset, ignore_index, config, checkpoint_every=0, checkpoint_path=None):\n",
    "    log_dir, model_dir = setup_exp_folders(EXPERIMENT_NAME)\n",
    "    writer = SummaryWriter(log_dir)\n",
    "\n",
    "    train_dataloader = DataLoader(train_dataset,batch_size=config[\"BATCH_SIZE\"])#,num_workers=args.num_workers)\n",
    "    EPOCHS = config[\"EPOCHS\"]\n",
    "    GRADIENT_ACCUMULATION_STEPS = config[\"GRADIENT_ACCUMULATION_STEPS\"]\n",
    "    \n",
    "    loss_fct = CrossEntropyLoss(ignore_index=ignore_index) #ignores padding token for loss calculation\n",
    "    optimizer = AdamW(model.parameters(),lr=config[\"LR\"])\n",
    "    total_steps = len(train_dataloader) * EPOCHS\n",
    "    scheduler = get_linear_schedule_with_warmup(\n",
    "        optimizer, num_warmup_steps=config[\"WARMUP_STEP\"], num_training_steps=total_steps\n",
    "    )\n",
    "\n",
    "    global_step = 0\n",
    "    tr_loss, logging_loss = 0.0, 0.0\n",
    "    start_epoch = 1\n",
    "\n",
    "    if checkpoint_path:\n",
    "        checkpoint = torch.load(checkpoint_path)\n",
    "        start_epoch = checkpoint[\"epoch\"]\n",
    "        model.load_state_dict(checkpoint['model_state_dict'])\n",
    "        global_step = checkpoint[\"global_step\"]\n",
    "        optimizer.load_state_dict(checkpoint['optimizer_state_dict'])\n",
    "        loss = checkpoint[\"loss\"]\n",
    "        tr_loss = checkpoint[\"tr_loss\"]\n",
    "\n",
    "    model.train()\n",
    "    model.zero_grad()\n",
    "    \n",
    "    for epoch in range(start_epoch, EPOCHS+1):\n",
    "        print(f\"Epoch {epoch}\")\n",
    "        for step, batch in enumerate(tqdm(train_dataloader)):\n",
    "            inputs, labels = batch['token_ids'], batch['token_ids']\n",
    "\n",
    "            inputs = inputs.to(device)\n",
    "            labels = labels.to(device)\n",
    "            logits = model(inputs)[0]\n",
    "            idx = batch['sep_pos']\n",
    "\n",
    "            losses = []\n",
    "            for i, sep_idx in enumerate(idx):\n",
    "                shift_logits = logits[i, sep_idx:-1, :].contiguous()\n",
    "                shift_labels = labels[i, sep_idx+1:].contiguous()\n",
    "                l = loss_fct(shift_logits.view(-1, shift_logits.size(-1)), shift_labels.view(-1))\n",
    "                losses.append(l)\n",
    "\n",
    "            # Combine the losses\n",
    "            loss = torch.stack(losses).mean()\n",
    "            loss = loss/GRADIENT_ACCUMULATION_STEPS\n",
    "            loss.backward()\n",
    "            \n",
    "            torch.nn.utils.clip_grad_norm_(model.parameters(), config[\"MAX_GRAD_NORM\"])\n",
    "            tr_loss += loss.item()\n",
    "\n",
    "            if (step + 1) % GRADIENT_ACCUMULATION_STEPS == 0:\n",
    "                optimizer.step()\n",
    "                scheduler.step()  # Update learning rate schedule\n",
    "                model.zero_grad()\n",
    "                global_step += 1\n",
    "                writer.add_scalar('lr', scheduler.get_lr()[0], global_step)\n",
    "                writer.add_scalar('loss', (tr_loss - logging_loss)/GRADIENT_ACCUMULATION_STEPS, global_step)\n",
    "                logging_loss = tr_loss\n",
    "\n",
    "            if (step + 1) % (10*GRADIENT_ACCUMULATION_STEPS) == 0:\n",
    "                results = evaluate(model, valid_dataset, config[\"BATCH_SIZE\"], ignore_index)\n",
    "                for key, value in results.items():\n",
    "                    writer.add_scalar('eval_{}'.format(key), value, global_step)\n",
    "                model.train()\n",
    "\n",
    "        if epoch % checkpoint_every == 0:\n",
    "            # Save checkpoint\n",
    "            model_path = os.path.join(model_dir, f\"checkpoint_epoch{epoch}.pt\")\n",
    "            torch.save({\n",
    "                    'epoch': epoch,\n",
    "                    'global_step': global_step,\n",
    "                    'model_state_dict': model.state_dict(),\n",
    "                    'optimizer_state_dict': optimizer.state_dict(),\n",
    "                    'loss': loss,\n",
    "                    'tr_loss': tr_loss\n",
    "                    }, model_path)\n",
    "            \n",
    "            print(f\"Saved checkpoint to {model_path}\\n\")\n",
    "\n",
    "    if epoch % checkpoint_every != 0:\n",
    "        # Save final checkpoint (if it wasn't already saved)\n",
    "        model_path = os.path.join(model_dir, f\"checkpoint_epoch{epoch}.pt\")\n",
    "        torch.save({\n",
    "                'epoch': EPOCHS,\n",
    "                'global_step': global_step,\n",
    "                'model_state_dict': model.state_dict(),\n",
    "                'optimizer_state_dict': optimizer.state_dict(),\n",
    "                'loss': loss,\n",
    "                'tr_loss': tr_loss\n",
    "                }, model_path)\n",
    "        print(f\"Saved final checkpoint to {model_path}\\n\")\n",
    "    print(f\"Training complete!\")\n"
   ]
  },
  {
   "cell_type": "code",
   "execution_count": 9,
   "metadata": {},
   "outputs": [],
   "source": [
    "def evaluate(model, eval_dataset, batch_size, ignore_index):\n",
    "    \"\"\" Returns perplexity score on validation dataset.\n",
    "        global_step: no. of times gradients have backpropagated\n",
    "        ignore_index: token not considered in loss calculation\n",
    "    \"\"\"\n",
    "    eval_dataloader = DataLoader(eval_dataset, batch_size=batch_size)\n",
    "    loss_fct = CrossEntropyLoss(ignore_index=ignore_index) #ignores padding token for loss calculation\n",
    "\n",
    "    eval_loss = 0.0\n",
    "    nb_eval_steps = 0\n",
    "    model.eval()\n",
    "\n",
    "    for batch in eval_dataloader:\n",
    "        inputs, labels = batch['token_ids'].to(device), batch['token_ids'].to(device)\n",
    "        \n",
    "        with torch.no_grad():\n",
    "            logits = model(inputs)[0]\n",
    "            idx = batch['sep_pos']\n",
    "\n",
    "            losses = []\n",
    "            for i, sep_idx in enumerate(idx):\n",
    "                shift_logits = logits[i, sep_idx:-1, :].contiguous()\n",
    "                shift_labels = labels[i, sep_idx+1:].contiguous()\n",
    "                loss = loss_fct(shift_logits.view(-1, shift_logits.size(-1)), shift_labels.view(-1))\n",
    "                losses.append(loss)\n",
    "\n",
    "            # Combine the losses\n",
    "            eval_loss += torch.stack(losses).mean()\n",
    "\n",
    "        nb_eval_steps += 1\n",
    "\n",
    "    eval_loss = eval_loss / nb_eval_steps\n",
    "    perplexity = torch.exp(torch.tensor(eval_loss))\n",
    "\n",
    "    return {\"perplexity\": perplexity, \"loss\": eval_loss}           "
   ]
  },
  {
   "cell_type": "code",
   "execution_count": 10,
   "metadata": {},
   "outputs": [
    {
     "data": {
      "text/plain": [
       "GPT2LMHeadModel(\n",
       "  (transformer): GPT2Model(\n",
       "    (wte): Embedding(50259, 768)\n",
       "    (wpe): Embedding(1024, 768)\n",
       "    (drop): Dropout(p=0.1, inplace=False)\n",
       "    (h): ModuleList(\n",
       "      (0-11): 12 x GPT2Block(\n",
       "        (ln_1): LayerNorm((768,), eps=1e-05, elementwise_affine=True)\n",
       "        (attn): GPT2Attention(\n",
       "          (c_attn): Conv1D()\n",
       "          (c_proj): Conv1D()\n",
       "          (attn_dropout): Dropout(p=0.1, inplace=False)\n",
       "          (resid_dropout): Dropout(p=0.1, inplace=False)\n",
       "        )\n",
       "        (ln_2): LayerNorm((768,), eps=1e-05, elementwise_affine=True)\n",
       "        (mlp): GPT2MLP(\n",
       "          (c_fc): Conv1D()\n",
       "          (c_proj): Conv1D()\n",
       "          (act): NewGELUActivation()\n",
       "          (dropout): Dropout(p=0.1, inplace=False)\n",
       "        )\n",
       "      )\n",
       "    )\n",
       "    (ln_f): LayerNorm((768,), eps=1e-05, elementwise_affine=True)\n",
       "  )\n",
       "  (lm_head): Linear(in_features=768, out_features=50259, bias=False)\n",
       ")"
      ]
     },
     "execution_count": 10,
     "metadata": {},
     "output_type": "execute_result"
    }
   ],
   "source": [
    "model = init_model(tokenizer, config[\"GPT_SIZE\"])\n",
    "model.to(device)"
   ]
  },
  {
   "cell_type": "code",
   "execution_count": null,
   "metadata": {},
   "outputs": [],
   "source": [
    "train(model, train_dataset, val_dataset, tokenizer.pad_token_id, config, checkpoint_every=5)"
   ]
  }
 ],
 "metadata": {
  "kernelspec": {
   "display_name": "virtenv",
   "language": "python",
   "name": "python3"
  },
  "language_info": {
   "codemirror_mode": {
    "name": "ipython",
    "version": 3
   },
   "file_extension": ".py",
   "mimetype": "text/x-python",
   "name": "python",
   "nbconvert_exporter": "python",
   "pygments_lexer": "ipython3",
   "version": "3.8.16"
  },
  "orig_nbformat": 4
 },
 "nbformat": 4,
 "nbformat_minor": 2
}
